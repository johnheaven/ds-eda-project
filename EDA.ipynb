{
 "cells": [
  {
   "cell_type": "markdown",
   "metadata": {},
   "source": [
    "# EDA"
   ]
  },
  {
   "cell_type": "code",
   "execution_count": 1,
   "metadata": {},
   "outputs": [],
   "source": [
    "import warnings\n",
    "\n",
    "warnings.filterwarnings(\"ignore\")\n",
    "\n",
    "import pandas as pd\n",
    "import numpy as np\n",
    "import matplotlib.pyplot as plt\n",
    "import seaborn as sns\n",
    "\n",
    "\n",
    "from matplotlib.ticker import PercentFormatter\n",
    "plt.rcParams.update({ \"figure.figsize\" : (8, 5),\"axes.facecolor\" : \"white\", \"axes.edgecolor\":  \"black\"})\n",
    "plt.rcParams[\"figure.facecolor\"]= \"w\"\n",
    "pd.plotting.register_matplotlib_converters()\n",
    "pd.set_option('display.float_format', lambda x: '%.3f' % x)"
   ]
  },
  {
   "cell_type": "code",
   "execution_count": 2,
   "metadata": {},
   "outputs": [],
   "source": [
    "from my_functions import *"
   ]
  },
  {
   "cell_type": "code",
   "execution_count": 3,
   "metadata": {},
   "outputs": [
    {
     "name": "stdout",
     "output_type": "stream",
     "text": [
      "<class 'pandas.core.frame.DataFrame'>\n",
      "RangeIndex: 21597 entries, 0 to 21596\n",
      "Data columns (total 21 columns):\n",
      " #   Column         Non-Null Count  Dtype         \n",
      "---  ------         --------------  -----         \n",
      " 0   id             21597 non-null  int64         \n",
      " 1   date           21597 non-null  datetime64[ns]\n",
      " 2   price          21597 non-null  float64       \n",
      " 3   bedrooms       21597 non-null  int64         \n",
      " 4   bathrooms      21597 non-null  float64       \n",
      " 5   sqft_living    21597 non-null  int64         \n",
      " 6   sqft_lot       21597 non-null  int64         \n",
      " 7   floors         21597 non-null  float64       \n",
      " 8   waterfront     19221 non-null  float64       \n",
      " 9   view           21534 non-null  float64       \n",
      " 10  condition      21597 non-null  int64         \n",
      " 11  grade          21597 non-null  int64         \n",
      " 12  sqft_above     21597 non-null  int64         \n",
      " 13  sqft_basement  21597 non-null  object        \n",
      " 14  yr_built       21597 non-null  datetime64[ns]\n",
      " 15  yr_renovated   17755 non-null  object        \n",
      " 16  zipcode        21597 non-null  int64         \n",
      " 17  lat            21597 non-null  float64       \n",
      " 18  long           21597 non-null  float64       \n",
      " 19  sqft_living15  21597 non-null  int64         \n",
      " 20  sqft_lot15     21597 non-null  int64         \n",
      "dtypes: datetime64[ns](2), float64(7), int64(10), object(2)\n",
      "memory usage: 3.5+ MB\n"
     ]
    }
   ],
   "source": [
    "# import data\n",
    "df = pd.read_csv(\"data/King_County_House_prices_dataset.csv\", parse_dates=[\"date\", \"yr_built\", \"yr_renovated\"])\n",
    "df.head(5)\n",
    "df.info()"
   ]
  },
  {
   "cell_type": "markdown",
   "metadata": {},
   "source": [
    "|    | Column name   | Description   |\n",
    "|---:|:--------------|:--------------|\n",
    "|  0 | date          | Date of the sale             |\n",
    "|  1 | price         | Price of sale |\n",
    "|  2 | bedrooms      | Number of bedrooms |\n",
    "|  3 | bathrooms     | Number of bathrooms |\n",
    "|  4 | sqft_living   | Area of living space |\n",
    "|  5 | sqft_lot      | Area of plot of land  |\n",
    "|  6 | floors        | Number of floors within property |\n",
    "|  7 | waterfront    | On the waterfront [Y/N] |\n",
    "|  8 | view          | Quality of the view on a scale of 1 to 4 |\n",
    "|  9 | condition     | Condition on a scale of 1 to 5 |\n",
    "| 10 | grade         | ? |\n",
    "| 11 | sqft_above    |  Living area not including basement             |\n",
    "| 12 | sqft_basement | Living area in basement |\n",
    "| 13 | yr_built      | Year property was built |\n",
    "| 14 | yr_renovated  | Year property was last renovated |\n",
    "| 15 | zipcode       | Zip code |\n",
    "| 16 | lat           | Latitude |\n",
    "| 17 | long          | Longitude |\n",
    "| 18 | sqft_living15 | ? |\n",
    "| 19 | sqft_lot15    |  ? |"
   ]
  },
  {
   "cell_type": "markdown",
   "metadata": {},
   "source": [
    "## Clean `yr_renovated` column"
   ]
  },
  {
   "cell_type": "code",
   "execution_count": 4,
   "metadata": {},
   "outputs": [
    {
     "name": "stdout",
     "output_type": "stream",
     "text": [
      "<class 'pandas.core.frame.DataFrame'>\n",
      "RangeIndex: 21597 entries, 0 to 21596\n",
      "Data columns (total 21 columns):\n",
      " #   Column         Non-Null Count  Dtype         \n",
      "---  ------         --------------  -----         \n",
      " 0   id             21597 non-null  int64         \n",
      " 1   date           21597 non-null  datetime64[ns]\n",
      " 2   price          21597 non-null  float64       \n",
      " 3   bedrooms       21597 non-null  int64         \n",
      " 4   bathrooms      21597 non-null  float64       \n",
      " 5   sqft_living    21597 non-null  int64         \n",
      " 6   sqft_lot       21597 non-null  int64         \n",
      " 7   floors         21597 non-null  float64       \n",
      " 8   waterfront     19221 non-null  float64       \n",
      " 9   view           21534 non-null  float64       \n",
      " 10  condition      21597 non-null  int64         \n",
      " 11  grade          21597 non-null  int64         \n",
      " 12  sqft_above     21597 non-null  int64         \n",
      " 13  sqft_basement  21597 non-null  object        \n",
      " 14  yr_built       21597 non-null  datetime64[ns]\n",
      " 15  yr_renovated   744 non-null    datetime64[ns]\n",
      " 16  zipcode        21597 non-null  int64         \n",
      " 17  lat            21597 non-null  float64       \n",
      " 18  long           21597 non-null  float64       \n",
      " 19  sqft_living15  21597 non-null  int64         \n",
      " 20  sqft_lot15     21597 non-null  int64         \n",
      "dtypes: datetime64[ns](3), float64(7), int64(10), object(1)\n",
      "memory usage: 3.5+ MB\n"
     ]
    }
   ],
   "source": [
    "df[\"yr_renovated\"] = pd.to_datetime(df[\"yr_renovated\"].replace(\"0.0\", np.NaN), format=\"%Y.0\")\n",
    "df.info()"
   ]
  },
  {
   "cell_type": "code",
   "execution_count": 5,
   "metadata": {},
   "outputs": [
    {
     "data": {
      "text/plain": [
       "count     21597.000\n",
       "mean     540296.574\n",
       "std      367368.140\n",
       "min       78000.000\n",
       "25%      322000.000\n",
       "50%      450000.000\n",
       "75%      645000.000\n",
       "max     7700000.000\n",
       "Name: price, dtype: float64"
      ]
     },
     "execution_count": 5,
     "metadata": {},
     "output_type": "execute_result"
    }
   ],
   "source": [
    "df[\"price\"].describe()"
   ]
  },
  {
   "cell_type": "markdown",
   "metadata": {},
   "source": [
    "## 5 highest-value zip codes"
   ]
  },
  {
   "cell_type": "code",
   "execution_count": 7,
   "metadata": {},
   "outputs": [],
   "source": [
    "zips = get_zip_means(df)"
   ]
  },
  {
   "cell_type": "code",
   "execution_count": 8,
   "metadata": {},
   "outputs": [
    {
     "data": {
      "application/vnd.plotly.v1+json": {
       "config": {
        "plotlyServerURL": "https://plot.ly"
       },
       "data": [
        {
         "hovertemplate": "<b>%{hovertext}</b><br><br>mean_price=%{marker.color}<br>latitude=%{lat}<br>longitude=%{lon}<extra></extra>",
         "hovertext": [
          "98001 (Auburn)",
          "98002 (Auburn)",
          "98003 (Federal Way)",
          "98004 (Bellevue)",
          "98005 (Bellevue)",
          "98006 (Bellevue)",
          "98007 (Bellevue)",
          "98008 (Bellevue)",
          "98010 (Black Diamond)",
          "98011 (Bothell)",
          "98014 (Carnation)",
          "98019 (Duvall)",
          "98022 (Enumclaw)",
          "98023 (Federal Way)",
          "98024 (Fall City)",
          "98027 (Issaquah)",
          "98028 (Kenmore)",
          "98029 (Issaquah)",
          "98030 (Kent)",
          "98031 (Kent)",
          "98032 (Kent)",
          "98033 (Kirkland)",
          "98034 (Kirkland)",
          "98038 (Maple Valley)",
          "98039 (Medina)",
          "98040 (Mercer Island)",
          "98042 (Kent)",
          "98045 (North Bend)",
          "98052 (Redmond)",
          "98053 (Redmond)",
          "98055 (Renton)",
          "98056 (Renton)",
          "98058 (Renton)",
          "98059 (Renton)",
          "98065 (Snoqualmie)",
          "98070 (Vashon)",
          "98072 (Woodinville)",
          "98074 (Sammamish)",
          "98075 (Sammamish)",
          "98077 (Woodinville)",
          "98092 (Auburn)",
          "98102 (Seattle)",
          "98103 (Seattle)",
          "98105 (Seattle)",
          "98106 (Seattle)",
          "98107 (Seattle)",
          "98108 (Seattle)",
          "98109 (Seattle)",
          "98112 (Seattle)",
          "98115 (Seattle)",
          "98116 (Seattle)",
          "98117 (Seattle)",
          "98118 (Seattle)",
          "98119 (Seattle)",
          "98122 (Seattle)",
          "98125 (Seattle)",
          "98126 (Seattle)",
          "98133 (Seattle)",
          "98136 (Seattle)",
          "98144 (Seattle)",
          "98146 (Seattle)",
          "98148 (Seattle)",
          "98155 (Seattle)",
          "98166 (Seattle)",
          "98168 (Seattle)",
          "98177 (Seattle)",
          "98178 (Seattle)",
          "98188 (Seattle)",
          "98198 (Seattle)",
          "98199 (Seattle)"
         ],
         "lat": [
          47.3099,
          47.305,
          47.3203,
          47.6155,
          47.615,
          47.5614,
          47.6174,
          47.6115,
          47.3114,
          47.7497,
          47.638,
          47.725,
          47.2665,
          47.3104,
          47.5682,
          47.4974,
          47.7542,
          47.5585,
          47.3866,
          47.388,
          47.3776,
          47.6786,
          47.7188,
          47.3845,
          47.6269,
          47.5603,
          47.368,
          47.4755,
          47.6718,
          47.6462,
          47.4648,
          47.5073,
          47.4465,
          47.5058,
          47.5293,
          47.4259,
          47.7684,
          47.6254,
          47.5857,
          47.7529,
          47.2884,
          47.6302,
          47.6733,
          47.6633,
          47.5344,
          47.6701,
          47.5413,
          47.6339,
          47.6301,
          47.6849,
          47.5746,
          47.6873,
          47.5412,
          47.6379,
          47.6116,
          47.717,
          47.5444,
          47.7377,
          47.5398,
          47.5846,
          47.4995,
          47.4441,
          47.7559,
          47.4511,
          47.4889,
          47.7467,
          47.4924,
          47.4483,
          47.3929,
          47.6488
         ],
         "legendgroup": "",
         "lon": [
          -122.2653,
          -122.2067,
          -122.3117,
          -122.2072,
          -122.1663,
          -122.1552,
          -122.1426,
          -122.1162,
          -122.0053,
          -122.2159,
          -121.9111,
          -121.9369,
          -122.0314,
          -122.3612,
          -121.8896,
          -122.0107,
          -122.2475,
          -122.0055,
          -122.2109,
          -122.1932,
          -122.2854,
          -122.1894,
          -122.1966,
          -122.0574,
          -122.2314,
          -122.2281,
          -122.1206,
          -121.7571,
          -122.1232,
          -122.0386,
          -122.2075,
          -122.1819,
          -122.1216,
          -122.1157,
          -121.8225,
          -122.4644,
          -122.1271,
          -122.0462,
          -122.0345,
          -122.0582,
          -122.098,
          -122.321,
          -122.3426,
          -122.3022,
          -122.3547,
          -122.3763,
          -122.3129,
          -122.3476,
          -122.2972,
          -122.2968,
          -122.3934,
          -122.3772,
          -122.275,
          -122.3643,
          -122.3056,
          -122.3015,
          -122.3735,
          -122.3431,
          -122.3878,
          -122.3005,
          -122.3603,
          -122.3249,
          -122.3003,
          -122.353,
          -122.3012,
          -122.3686,
          -122.2359,
          -122.2731,
          -122.3129,
          -122.3964
         ],
         "marker": {
          "color": [
           281000,
           234000,
           294000,
           1357000,
           810000,
           860000,
           617000,
           646000,
           424000,
           490000,
           456000,
           425000,
           317000,
           287000,
           586000,
           617000,
           462000,
           613000,
           296000,
           300000,
           251000,
           804000,
           522000,
           367000,
           2161000,
           1195000,
           312000,
           440000,
           645000,
           677000,
           304000,
           421000,
           354000,
           494000,
           530000,
           489000,
           570000,
           686000,
           791000,
           683000,
           335000,
           900000,
           585000,
           863000,
           320000,
           579000,
           356000,
           880000,
           1096000,
           620000,
           619000,
           577000,
           418000,
           850000,
           635000,
           470000,
           425000,
           387000,
           552000,
           595000,
           359000,
           285000,
           424000,
           464000,
           240000,
           676000,
           311000,
           289000,
           303000,
           792000
          ],
          "coloraxis": "coloraxis",
          "size": [
           281000,
           234000,
           294000,
           1357000,
           810000,
           860000,
           617000,
           646000,
           424000,
           490000,
           456000,
           425000,
           317000,
           287000,
           586000,
           617000,
           462000,
           613000,
           296000,
           300000,
           251000,
           804000,
           522000,
           367000,
           2161000,
           1195000,
           312000,
           440000,
           645000,
           677000,
           304000,
           421000,
           354000,
           494000,
           530000,
           489000,
           570000,
           686000,
           791000,
           683000,
           335000,
           900000,
           585000,
           863000,
           320000,
           579000,
           356000,
           880000,
           1096000,
           620000,
           619000,
           577000,
           418000,
           850000,
           635000,
           470000,
           425000,
           387000,
           552000,
           595000,
           359000,
           285000,
           424000,
           464000,
           240000,
           676000,
           311000,
           289000,
           303000,
           792000
          ],
          "sizemode": "area",
          "sizeref": 5402.5
         },
         "mode": "markers",
         "name": "",
         "showlegend": false,
         "subplot": "mapbox",
         "type": "scattermapbox"
        }
       ],
       "layout": {
        "coloraxis": {
         "colorbar": {
          "title": {
           "text": "mean_price"
          }
         },
         "colorscale": [
          [
           0,
           "#0d0887"
          ],
          [
           0.1111111111111111,
           "#46039f"
          ],
          [
           0.2222222222222222,
           "#7201a8"
          ],
          [
           0.3333333333333333,
           "#9c179e"
          ],
          [
           0.4444444444444444,
           "#bd3786"
          ],
          [
           0.5555555555555556,
           "#d8576b"
          ],
          [
           0.6666666666666666,
           "#ed7953"
          ],
          [
           0.7777777777777778,
           "#fb9f3a"
          ],
          [
           0.8888888888888888,
           "#fdca26"
          ],
          [
           1,
           "#f0f921"
          ]
         ]
        },
        "height": 576,
        "legend": {
         "itemsizing": "constant",
         "tracegroupgap": 0
        },
        "mapbox": {
         "center": {
          "lat": 47.55321,
          "lon": -122.20993714285713
         },
         "domain": {
          "x": [
           0,
           1
          ],
          "y": [
           0,
           1
          ]
         },
         "style": "stamen-terrain",
         "zoom": 8.5
        },
        "template": {
         "data": {
          "bar": [
           {
            "error_x": {
             "color": "#2a3f5f"
            },
            "error_y": {
             "color": "#2a3f5f"
            },
            "marker": {
             "line": {
              "color": "#E5ECF6",
              "width": 0.5
             },
             "pattern": {
              "fillmode": "overlay",
              "size": 10,
              "solidity": 0.2
             }
            },
            "type": "bar"
           }
          ],
          "barpolar": [
           {
            "marker": {
             "line": {
              "color": "#E5ECF6",
              "width": 0.5
             },
             "pattern": {
              "fillmode": "overlay",
              "size": 10,
              "solidity": 0.2
             }
            },
            "type": "barpolar"
           }
          ],
          "carpet": [
           {
            "aaxis": {
             "endlinecolor": "#2a3f5f",
             "gridcolor": "white",
             "linecolor": "white",
             "minorgridcolor": "white",
             "startlinecolor": "#2a3f5f"
            },
            "baxis": {
             "endlinecolor": "#2a3f5f",
             "gridcolor": "white",
             "linecolor": "white",
             "minorgridcolor": "white",
             "startlinecolor": "#2a3f5f"
            },
            "type": "carpet"
           }
          ],
          "choropleth": [
           {
            "colorbar": {
             "outlinewidth": 0,
             "ticks": ""
            },
            "type": "choropleth"
           }
          ],
          "contour": [
           {
            "colorbar": {
             "outlinewidth": 0,
             "ticks": ""
            },
            "colorscale": [
             [
              0,
              "#0d0887"
             ],
             [
              0.1111111111111111,
              "#46039f"
             ],
             [
              0.2222222222222222,
              "#7201a8"
             ],
             [
              0.3333333333333333,
              "#9c179e"
             ],
             [
              0.4444444444444444,
              "#bd3786"
             ],
             [
              0.5555555555555556,
              "#d8576b"
             ],
             [
              0.6666666666666666,
              "#ed7953"
             ],
             [
              0.7777777777777778,
              "#fb9f3a"
             ],
             [
              0.8888888888888888,
              "#fdca26"
             ],
             [
              1,
              "#f0f921"
             ]
            ],
            "type": "contour"
           }
          ],
          "contourcarpet": [
           {
            "colorbar": {
             "outlinewidth": 0,
             "ticks": ""
            },
            "type": "contourcarpet"
           }
          ],
          "heatmap": [
           {
            "colorbar": {
             "outlinewidth": 0,
             "ticks": ""
            },
            "colorscale": [
             [
              0,
              "#0d0887"
             ],
             [
              0.1111111111111111,
              "#46039f"
             ],
             [
              0.2222222222222222,
              "#7201a8"
             ],
             [
              0.3333333333333333,
              "#9c179e"
             ],
             [
              0.4444444444444444,
              "#bd3786"
             ],
             [
              0.5555555555555556,
              "#d8576b"
             ],
             [
              0.6666666666666666,
              "#ed7953"
             ],
             [
              0.7777777777777778,
              "#fb9f3a"
             ],
             [
              0.8888888888888888,
              "#fdca26"
             ],
             [
              1,
              "#f0f921"
             ]
            ],
            "type": "heatmap"
           }
          ],
          "heatmapgl": [
           {
            "colorbar": {
             "outlinewidth": 0,
             "ticks": ""
            },
            "colorscale": [
             [
              0,
              "#0d0887"
             ],
             [
              0.1111111111111111,
              "#46039f"
             ],
             [
              0.2222222222222222,
              "#7201a8"
             ],
             [
              0.3333333333333333,
              "#9c179e"
             ],
             [
              0.4444444444444444,
              "#bd3786"
             ],
             [
              0.5555555555555556,
              "#d8576b"
             ],
             [
              0.6666666666666666,
              "#ed7953"
             ],
             [
              0.7777777777777778,
              "#fb9f3a"
             ],
             [
              0.8888888888888888,
              "#fdca26"
             ],
             [
              1,
              "#f0f921"
             ]
            ],
            "type": "heatmapgl"
           }
          ],
          "histogram": [
           {
            "marker": {
             "pattern": {
              "fillmode": "overlay",
              "size": 10,
              "solidity": 0.2
             }
            },
            "type": "histogram"
           }
          ],
          "histogram2d": [
           {
            "colorbar": {
             "outlinewidth": 0,
             "ticks": ""
            },
            "colorscale": [
             [
              0,
              "#0d0887"
             ],
             [
              0.1111111111111111,
              "#46039f"
             ],
             [
              0.2222222222222222,
              "#7201a8"
             ],
             [
              0.3333333333333333,
              "#9c179e"
             ],
             [
              0.4444444444444444,
              "#bd3786"
             ],
             [
              0.5555555555555556,
              "#d8576b"
             ],
             [
              0.6666666666666666,
              "#ed7953"
             ],
             [
              0.7777777777777778,
              "#fb9f3a"
             ],
             [
              0.8888888888888888,
              "#fdca26"
             ],
             [
              1,
              "#f0f921"
             ]
            ],
            "type": "histogram2d"
           }
          ],
          "histogram2dcontour": [
           {
            "colorbar": {
             "outlinewidth": 0,
             "ticks": ""
            },
            "colorscale": [
             [
              0,
              "#0d0887"
             ],
             [
              0.1111111111111111,
              "#46039f"
             ],
             [
              0.2222222222222222,
              "#7201a8"
             ],
             [
              0.3333333333333333,
              "#9c179e"
             ],
             [
              0.4444444444444444,
              "#bd3786"
             ],
             [
              0.5555555555555556,
              "#d8576b"
             ],
             [
              0.6666666666666666,
              "#ed7953"
             ],
             [
              0.7777777777777778,
              "#fb9f3a"
             ],
             [
              0.8888888888888888,
              "#fdca26"
             ],
             [
              1,
              "#f0f921"
             ]
            ],
            "type": "histogram2dcontour"
           }
          ],
          "mesh3d": [
           {
            "colorbar": {
             "outlinewidth": 0,
             "ticks": ""
            },
            "type": "mesh3d"
           }
          ],
          "parcoords": [
           {
            "line": {
             "colorbar": {
              "outlinewidth": 0,
              "ticks": ""
             }
            },
            "type": "parcoords"
           }
          ],
          "pie": [
           {
            "automargin": true,
            "type": "pie"
           }
          ],
          "scatter": [
           {
            "fillpattern": {
             "fillmode": "overlay",
             "size": 10,
             "solidity": 0.2
            },
            "type": "scatter"
           }
          ],
          "scatter3d": [
           {
            "line": {
             "colorbar": {
              "outlinewidth": 0,
              "ticks": ""
             }
            },
            "marker": {
             "colorbar": {
              "outlinewidth": 0,
              "ticks": ""
             }
            },
            "type": "scatter3d"
           }
          ],
          "scattercarpet": [
           {
            "marker": {
             "colorbar": {
              "outlinewidth": 0,
              "ticks": ""
             }
            },
            "type": "scattercarpet"
           }
          ],
          "scattergeo": [
           {
            "marker": {
             "colorbar": {
              "outlinewidth": 0,
              "ticks": ""
             }
            },
            "type": "scattergeo"
           }
          ],
          "scattergl": [
           {
            "marker": {
             "colorbar": {
              "outlinewidth": 0,
              "ticks": ""
             }
            },
            "type": "scattergl"
           }
          ],
          "scattermapbox": [
           {
            "marker": {
             "colorbar": {
              "outlinewidth": 0,
              "ticks": ""
             }
            },
            "type": "scattermapbox"
           }
          ],
          "scatterpolar": [
           {
            "marker": {
             "colorbar": {
              "outlinewidth": 0,
              "ticks": ""
             }
            },
            "type": "scatterpolar"
           }
          ],
          "scatterpolargl": [
           {
            "marker": {
             "colorbar": {
              "outlinewidth": 0,
              "ticks": ""
             }
            },
            "type": "scatterpolargl"
           }
          ],
          "scatterternary": [
           {
            "marker": {
             "colorbar": {
              "outlinewidth": 0,
              "ticks": ""
             }
            },
            "type": "scatterternary"
           }
          ],
          "surface": [
           {
            "colorbar": {
             "outlinewidth": 0,
             "ticks": ""
            },
            "colorscale": [
             [
              0,
              "#0d0887"
             ],
             [
              0.1111111111111111,
              "#46039f"
             ],
             [
              0.2222222222222222,
              "#7201a8"
             ],
             [
              0.3333333333333333,
              "#9c179e"
             ],
             [
              0.4444444444444444,
              "#bd3786"
             ],
             [
              0.5555555555555556,
              "#d8576b"
             ],
             [
              0.6666666666666666,
              "#ed7953"
             ],
             [
              0.7777777777777778,
              "#fb9f3a"
             ],
             [
              0.8888888888888888,
              "#fdca26"
             ],
             [
              1,
              "#f0f921"
             ]
            ],
            "type": "surface"
           }
          ],
          "table": [
           {
            "cells": {
             "fill": {
              "color": "#EBF0F8"
             },
             "line": {
              "color": "white"
             }
            },
            "header": {
             "fill": {
              "color": "#C8D4E3"
             },
             "line": {
              "color": "white"
             }
            },
            "type": "table"
           }
          ]
         },
         "layout": {
          "annotationdefaults": {
           "arrowcolor": "#2a3f5f",
           "arrowhead": 0,
           "arrowwidth": 1
          },
          "autotypenumbers": "strict",
          "coloraxis": {
           "colorbar": {
            "outlinewidth": 0,
            "ticks": ""
           }
          },
          "colorscale": {
           "diverging": [
            [
             0,
             "#8e0152"
            ],
            [
             0.1,
             "#c51b7d"
            ],
            [
             0.2,
             "#de77ae"
            ],
            [
             0.3,
             "#f1b6da"
            ],
            [
             0.4,
             "#fde0ef"
            ],
            [
             0.5,
             "#f7f7f7"
            ],
            [
             0.6,
             "#e6f5d0"
            ],
            [
             0.7,
             "#b8e186"
            ],
            [
             0.8,
             "#7fbc41"
            ],
            [
             0.9,
             "#4d9221"
            ],
            [
             1,
             "#276419"
            ]
           ],
           "sequential": [
            [
             0,
             "#0d0887"
            ],
            [
             0.1111111111111111,
             "#46039f"
            ],
            [
             0.2222222222222222,
             "#7201a8"
            ],
            [
             0.3333333333333333,
             "#9c179e"
            ],
            [
             0.4444444444444444,
             "#bd3786"
            ],
            [
             0.5555555555555556,
             "#d8576b"
            ],
            [
             0.6666666666666666,
             "#ed7953"
            ],
            [
             0.7777777777777778,
             "#fb9f3a"
            ],
            [
             0.8888888888888888,
             "#fdca26"
            ],
            [
             1,
             "#f0f921"
            ]
           ],
           "sequentialminus": [
            [
             0,
             "#0d0887"
            ],
            [
             0.1111111111111111,
             "#46039f"
            ],
            [
             0.2222222222222222,
             "#7201a8"
            ],
            [
             0.3333333333333333,
             "#9c179e"
            ],
            [
             0.4444444444444444,
             "#bd3786"
            ],
            [
             0.5555555555555556,
             "#d8576b"
            ],
            [
             0.6666666666666666,
             "#ed7953"
            ],
            [
             0.7777777777777778,
             "#fb9f3a"
            ],
            [
             0.8888888888888888,
             "#fdca26"
            ],
            [
             1,
             "#f0f921"
            ]
           ]
          },
          "colorway": [
           "#636efa",
           "#EF553B",
           "#00cc96",
           "#ab63fa",
           "#FFA15A",
           "#19d3f3",
           "#FF6692",
           "#B6E880",
           "#FF97FF",
           "#FECB52"
          ],
          "font": {
           "color": "#2a3f5f"
          },
          "geo": {
           "bgcolor": "white",
           "lakecolor": "white",
           "landcolor": "#E5ECF6",
           "showlakes": true,
           "showland": true,
           "subunitcolor": "white"
          },
          "hoverlabel": {
           "align": "left"
          },
          "hovermode": "closest",
          "mapbox": {
           "style": "light"
          },
          "paper_bgcolor": "white",
          "plot_bgcolor": "#E5ECF6",
          "polar": {
           "angularaxis": {
            "gridcolor": "white",
            "linecolor": "white",
            "ticks": ""
           },
           "bgcolor": "#E5ECF6",
           "radialaxis": {
            "gridcolor": "white",
            "linecolor": "white",
            "ticks": ""
           }
          },
          "scene": {
           "xaxis": {
            "backgroundcolor": "#E5ECF6",
            "gridcolor": "white",
            "gridwidth": 2,
            "linecolor": "white",
            "showbackground": true,
            "ticks": "",
            "zerolinecolor": "white"
           },
           "yaxis": {
            "backgroundcolor": "#E5ECF6",
            "gridcolor": "white",
            "gridwidth": 2,
            "linecolor": "white",
            "showbackground": true,
            "ticks": "",
            "zerolinecolor": "white"
           },
           "zaxis": {
            "backgroundcolor": "#E5ECF6",
            "gridcolor": "white",
            "gridwidth": 2,
            "linecolor": "white",
            "showbackground": true,
            "ticks": "",
            "zerolinecolor": "white"
           }
          },
          "shapedefaults": {
           "line": {
            "color": "#2a3f5f"
           }
          },
          "ternary": {
           "aaxis": {
            "gridcolor": "white",
            "linecolor": "white",
            "ticks": ""
           },
           "baxis": {
            "gridcolor": "white",
            "linecolor": "white",
            "ticks": ""
           },
           "bgcolor": "#E5ECF6",
           "caxis": {
            "gridcolor": "white",
            "linecolor": "white",
            "ticks": ""
           }
          },
          "title": {
           "x": 0.05
          },
          "xaxis": {
           "automargin": true,
           "gridcolor": "white",
           "linecolor": "white",
           "ticks": "",
           "title": {
            "standoff": 15
           },
           "zerolinecolor": "white",
           "zerolinewidth": 2
          },
          "yaxis": {
           "automargin": true,
           "gridcolor": "white",
           "linecolor": "white",
           "ticks": "",
           "title": {
            "standoff": 15
           },
           "zerolinecolor": "white",
           "zerolinewidth": 2
          }
         }
        },
        "title": {
         "text": "Zip Codes in King's Country: Average Price"
        },
        "width": 1024
       }
      }
     },
     "metadata": {},
     "output_type": "display_data"
    }
   ],
   "source": [
    "def map_zips(zips, title=\"Zip Codes in King's County\", sizecount=False, save_html=True, save_jpg=True):\n",
    "    \"\"\" Maps zip codes with Seaborn, optionally saves output to HTML or JPEG files too\n",
    "\n",
    "    Args:\n",
    "        zips (_type_): _description_\n",
    "        title (str, optional): The title. Defaults to \"Zip Codes in King's County\".\n",
    "        sizecount (bool, optional): Whether size is the count (i.e. number of data). Defaults to False.\n",
    "        save_html (bool, optional): Whether to save to HTML. Defaults to True.\n",
    "        save_jpg (bool, optional):\n",
    "    \"\"\"\n",
    "    import plotly.express as px\n",
    "    size = \"count\" if sizecount else \"mean_price\"\n",
    "    zips = zips.copy()\n",
    "    zips[\"_prefix\"] = \" (\"\n",
    "    zips[\"_suffix\"] = \")\"\n",
    "    zips[\"hover\"] = zips.index.astype(str) + zips[\"_prefix\"] + zips[\"name\"] + zips[\"_suffix\"]\n",
    "    fig = px.scatter_mapbox(\n",
    "        zips,\n",
    "        mapbox_style=\"stamen-terrain\",\n",
    "        lat=\"latitude\",\n",
    "        lon=\"longitude\",\n",
    "        color=\"mean_price\",\n",
    "        title=title,\n",
    "        hover_name=\"hover\",\n",
    "        width=1024,\n",
    "        height=576,\n",
    "        size=size,\n",
    "        zoom=8.5\n",
    "        )\n",
    "    fig.show()\n",
    "    if save_html or save_jpg:\n",
    "        file_name = title.replace(\" \", \"_\")\n",
    "        file_name = ''.join(e for e in file_name if (e.isalnum() or e == \"_\")).lower()\n",
    "    if save_html:\n",
    "        fig.write_html(f\"html/{file_name}.html\")\n",
    "    if save_jpg:\n",
    "        fig.write_image(f\"images/{file_name}.jpg\")\n",
    "map_zips(zips, title=\"Zip Codes in King's Country: Average Price\", save_html=True)"
   ]
  },
  {
   "cell_type": "markdown",
   "metadata": {},
   "source": [
    "From the map, we can see the point at which things get expensive (purple) is around 850k. This is well above the 75th %ile for the mean price on zip codes."
   ]
  },
  {
   "cell_type": "code",
   "execution_count": null,
   "metadata": {},
   "outputs": [],
   "source": [
    "print(f\"The 75th percentile is: {int(round(zips['mean_price'].quantile(0.75), -3))}\")"
   ]
  },
  {
   "cell_type": "code",
   "execution_count": null,
   "metadata": {},
   "outputs": [],
   "source": [
    "# Let's get the top 5\n",
    "top_5_zips = zips.sort_values(\"mean_price\", ascending=False).iloc[0:5]\n",
    "top_5_zips.drop(columns=[\"latitude\", \"longitude\"])"
   ]
  },
  {
   "cell_type": "code",
   "execution_count": null,
   "metadata": {},
   "outputs": [],
   "source": [
    "map_zips(top_5_zips, title=\"Top 5 most expensive zip codes\")"
   ]
  },
  {
   "cell_type": "markdown",
   "metadata": {},
   "source": [
    "Do the same for historical buildings (i.e. earlier than 1945)"
   ]
  },
  {
   "cell_type": "code",
   "execution_count": null,
   "metadata": {},
   "outputs": [],
   "source": [
    "historic_year = pd.to_datetime(\"1945-12-31\", yearfirst=True)\n",
    "mask_historic = df[\"yr_built\"] < historic_year\n",
    "historical_zips = get_zip_means(df[mask_historic])\n",
    "map_zips(historical_zips, title=\"Zip Codes by Average Price, Historical Only\")"
   ]
  },
  {
   "cell_type": "markdown",
   "metadata": {},
   "source": [
    "Here we can clearly see the range of prices in various zip codes.\n",
    "* The cheapest neighbourhoods start at $0.2M\n",
    "* The priciest range up to almost $2M\n",
    "* "
   ]
  },
  {
   "cell_type": "code",
   "execution_count": null,
   "metadata": {},
   "outputs": [],
   "source": [
    "top_historical_zips = historical_zips.sort_values(\"mean_price\", ascending=False).iloc[0:5]\n",
    "top_historical_zips.drop(columns=[\"latitude\", \"longitude\"])"
   ]
  },
  {
   "cell_type": "code",
   "execution_count": null,
   "metadata": {},
   "outputs": [],
   "source": [
    "map_zips(top_historical_zips, \"Top 5 historical zip codes by price\")"
   ]
  },
  {
   "cell_type": "markdown",
   "metadata": {},
   "source": [
    "Are these different from the overall most expensive zip codes? They have four in common - only two are in one but not the other."
   ]
  },
  {
   "cell_type": "code",
   "execution_count": null,
   "metadata": {},
   "outputs": [],
   "source": [
    "set(top_historical_zips.index).symmetric_difference(top_5_zips.index)"
   ]
  },
  {
   "cell_type": "markdown",
   "metadata": {},
   "source": []
  },
  {
   "cell_type": "code",
   "execution_count": null,
   "metadata": {},
   "outputs": [],
   "source": [
    "top_historical_zips_min_count = historical_zips[historical_zips[\"count\"] >= 10].sort_values(\"mean_price\", ascending=False).iloc[0:5]\n",
    "map_zips(top_historical_zips_min_count, \"Top 5 historical zip codes, n > 10\")"
   ]
  },
  {
   "cell_type": "markdown",
   "metadata": {},
   "source": [
    "Does this give us different results than without the n > 10 criterion?"
   ]
  },
  {
   "cell_type": "code",
   "execution_count": null,
   "metadata": {},
   "outputs": [],
   "source": [
    "set(top_historical_zips_min_count.index).intersection(set(top_historical_zips.index))"
   ]
  },
  {
   "cell_type": "markdown",
   "metadata": {},
   "source": [
    "Again, there are two that are in one but not the other."
   ]
  },
  {
   "cell_type": "markdown",
   "metadata": {},
   "source": [
    "## Should I sell now, or wait until autumn?"
   ]
  },
  {
   "cell_type": "code",
   "execution_count": null,
   "metadata": {},
   "outputs": [],
   "source": [
    "p = sns.lineplot(df[[\"price\",\"date\"]], x=\"date\", y=\"price\")\n",
    "fig.set_axis_labels(\"Date\", \"Price\")"
   ]
  },
  {
   "cell_type": "code",
   "execution_count": null,
   "metadata": {},
   "outputs": [],
   "source": []
  },
  {
   "cell_type": "code",
   "execution_count": null,
   "metadata": {},
   "outputs": [],
   "source": [
    "def plot_monthly_prices(df, title=None):\n",
    "    df = df.copy()\n",
    "    df[\"month\"] = df[\"date\"].dt.month.astype(int)\n",
    "    df_month_prices = df[[\"month\", \"price\"]].groupby(\"month\").mean()\n",
    "    p = sns.lineplot(df_month_prices, x=\"month\", y=\"price\")\n",
    "    if title is not None: p.set_title(title)\n",
    "\n",
    "plot_monthly_prices(df, title=\"Average price by month for all properties\")"
   ]
  },
  {
   "cell_type": "code",
   "execution_count": null,
   "metadata": {},
   "outputs": [],
   "source": [
    "# For top-five zip codes\n",
    "mask_top_5_zips = df[\"zipcode\"].isin(top_5_zips.index.to_list())\n",
    "plot_monthly_prices(df[mask_top_5_zips], \"Average price by month for top 5 zipcodes\")"
   ]
  },
  {
   "cell_type": "markdown",
   "metadata": {},
   "source": [
    "For the top zip-codes, price-wise it makes little difference whether we sell now or in autumn. There's a larger window of opportunity now though.\n",
    "\n",
    "If we do renovate, there's a chance to sell in autumn, but if things take longer, the spring window is waiting just after New Year."
   ]
  },
  {
   "cell_type": "code",
   "execution_count": null,
   "metadata": {},
   "outputs": [],
   "source": [
    "# For top five historic zip codes\n",
    "mask_top_historical_zips = df[\"zipcode\"].isin(top_historical_zips.index.to_list())\n",
    "plot_monthly_prices(df[mask_top_historical_zips], title=\"Average price by month for top historic zipcodes\")"
   ]
  },
  {
   "cell_type": "markdown",
   "metadata": {},
   "source": [
    "For the top historic zipcodes, the picture is slightly different. Autumn is about the worst time to sell!"
   ]
  },
  {
   "cell_type": "markdown",
   "metadata": {},
   "source": [
    "Is this because of low number of properties in the data?"
   ]
  },
  {
   "cell_type": "code",
   "execution_count": null,
   "metadata": {},
   "outputs": [],
   "source": [
    "mask_top_historical_zips_min_count = df[\"zipcode\"].isin(top_historical_zips_min_count.index.to_list())\n",
    "plot_monthly_prices(df[mask_top_historical_zips_min_count], \"Top historic zip codes with min 10 properties\")"
   ]
  },
  {
   "cell_type": "markdown",
   "metadata": {},
   "source": [
    "Conclusion: historic properties sold for lowest prices in autumn."
   ]
  },
  {
   "cell_type": "markdown",
   "metadata": {},
   "source": [
    "## Should I renovate?"
   ]
  },
  {
   "cell_type": "markdown",
   "metadata": {},
   "source": [
    "Only a small percentage of the dataset has information on renovation date. So we should be suspicious."
   ]
  },
  {
   "cell_type": "code",
   "execution_count": null,
   "metadata": {},
   "outputs": [],
   "source": [
    "def pc_ren(df, return_value=False):\n",
    "    if not return_value:\n",
    "        percent_renovated = df[\"yr_renovated\"].count() / df.index.size * 100\n",
    "        print(f\"{round(percent_renovated, 2)}% of buildings have been renovated.\")\n",
    "    else:\n",
    "        return percent_renovated\n",
    "\n",
    "pc_ren(df)"
   ]
  },
  {
   "cell_type": "markdown",
   "metadata": {},
   "source": [
    "What about historic buildings?"
   ]
  },
  {
   "cell_type": "code",
   "execution_count": null,
   "metadata": {},
   "outputs": [],
   "source": [
    "pc_ren(df[mask_historic])"
   ]
  },
  {
   "cell_type": "markdown",
   "metadata": {},
   "source": [
    "This is surprising... so we should take it with a pinch of salt."
   ]
  },
  {
   "cell_type": "code",
   "execution_count": null,
   "metadata": {},
   "outputs": [],
   "source": [
    "# add a column \"really_renovated\" – this is either the year renovated, or the year of build if NaN\n",
    "\n",
    "not_renovated_mask = df[\"yr_renovated\"].notna()\n",
    "bad_condition_mask = df[\"condition\"] <= 3\n",
    "\n",
    "df[\"really_renovated\"] = df[\"yr_renovated\"].fillna(df[\"yr_built\"])\n",
    "df"
   ]
  },
  {
   "cell_type": "code",
   "execution_count": null,
   "metadata": {},
   "outputs": [],
   "source": [
    "condition_renovation = df[[\"condition\", \"yr_renovated\"]].groupby(\"yr_renovated\").mean()\n",
    "condition_renovation"
   ]
  },
  {
   "cell_type": "code",
   "execution_count": null,
   "metadata": {},
   "outputs": [],
   "source": [
    "sns.scatterplot(condition_renovation, x=\"yr_renovated\", y=\"condition\")"
   ]
  },
  {
   "cell_type": "code",
   "execution_count": null,
   "metadata": {},
   "outputs": [],
   "source": [
    "# find average condition by really_renovated year\n",
    "condition_x_ren_year = df[[\"really_renovated\", \"condition\"]].groupby(\"really_renovated\").mean()\n",
    "sns.scatterplot(data=condition_x_ren_year)"
   ]
  },
  {
   "cell_type": "markdown",
   "metadata": {},
   "source": [
    "Does yr_renovated really add anything? Let's do the same, but for just the build year."
   ]
  },
  {
   "cell_type": "code",
   "execution_count": null,
   "metadata": {},
   "outputs": [],
   "source": [
    "condition_x_build_year = df[[\"yr_built\", \"condition\"]].groupby(\"yr_built\").mean()\n",
    "sns.scatterplot(data=condition_x_build_year)"
   ]
  },
  {
   "cell_type": "markdown",
   "metadata": {},
   "source": [
    "All the scattergraphs seem to show that the year or renovation/build is actually negatively correlated to condition. We can see that older objects generally are in better condition."
   ]
  },
  {
   "cell_type": "markdown",
   "metadata": {},
   "source": [
    "**We can't conclude very much from the data because we would expect condition to correlate with renovation... but the opposite is the case. We can assume that condition is valid, and yr_renovated is not.**"
   ]
  },
  {
   "cell_type": "markdown",
   "metadata": {},
   "source": [
    "### Is there any correlation between condition and price?"
   ]
  },
  {
   "cell_type": "code",
   "execution_count": null,
   "metadata": {},
   "outputs": [],
   "source": [
    "# Separate into price bands, group by average condition, and plot a scatter graph\n",
    "def mean_condition_x_price_band(df, bins=10, return_pb=False):\n",
    "    df = df[[\"price\", \"condition\"]].copy()\n",
    "    df[\"price_bands\"] = pd.cut(df[\"price\"], bins=bins, labels=range(1, bins+1))\n",
    "    df_pb_x_c = groupby_mean_and_len(df, use_cols=[\"price_bands\", \"condition\"], groupby_col=\"price_bands\")\n",
    "    if return_pb:\n",
    "        price_bands = groupby_mean_and_len(df, use_cols=[\"price_bands\", \"price\"], groupby_col=\"price_bands\")\n",
    "        return (df_pb_x_c, price_bands)\n",
    "    else:\n",
    "        return df\n",
    "condition_x_priceband, price_bands = mean_condition_x_price_band(df, return_pb=True)"
   ]
  },
  {
   "cell_type": "code",
   "execution_count": null,
   "metadata": {},
   "outputs": [],
   "source": [
    "sns.scatterplot(data=condition_x_priceband, x=condition_x_priceband.index, y=\"mean_condition\", size=\"count\", hue=\"count\")"
   ]
  },
  {
   "cell_type": "markdown",
   "metadata": {},
   "source": [
    "It looks like there is a correlation between price and condition up to price band 8. Many of the price bands don't have much data. Let's make a cut-off of at least 100 items."
   ]
  },
  {
   "cell_type": "code",
   "execution_count": null,
   "metadata": {},
   "outputs": [],
   "source": [
    "data = condition_x_priceband[condition_x_priceband[\"count\"]>=100]\n",
    "sns.scatterplot(data=data, x=data.index, y=\"mean_condition\", size=\"count\", hue=\"count\")"
   ]
  },
  {
   "cell_type": "code",
   "execution_count": null,
   "metadata": {},
   "outputs": [],
   "source": [
    "# find out price bands\n",
    "price_bands[\"mean_price_million\"] = price_bands[\"mean_price\"] / 1e6\n",
    "price_bands"
   ]
  },
  {
   "cell_type": "markdown",
   "metadata": {},
   "source": [
    "### Correlation between condition and price for historic properties?"
   ]
  },
  {
   "cell_type": "code",
   "execution_count": null,
   "metadata": {},
   "outputs": [],
   "source": [
    "condition_x_priceband_hist, price_bands_hist = mean_condition_x_price_band(df[mask_historic], return_pb=True)\n",
    "sns.scatterplot(data=condition_x_priceband_hist, x=condition_x_priceband_hist.index, y=\"mean_condition\", size=\"count\", hue=\"count\")"
   ]
  },
  {
   "cell_type": "markdown",
   "metadata": {},
   "source": [
    "It seems to be the same story - let's see how much data we have for each price band"
   ]
  },
  {
   "cell_type": "code",
   "execution_count": null,
   "metadata": {},
   "outputs": [],
   "source": [
    "price_bands_hist"
   ]
  },
  {
   "cell_type": "markdown",
   "metadata": {},
   "source": [
    "We're going to have to be less choosy if we want to see data for the highest price bands and go right down to 5!"
   ]
  },
  {
   "cell_type": "code",
   "execution_count": null,
   "metadata": {},
   "outputs": [],
   "source": [
    "data = condition_x_priceband_hist[condition_x_priceband_hist[\"count\"] >=5]\n",
    "sns.scatterplot(data=data, x=data.index, y=\"mean_condition\", size=\"count\", hue=\"count\")"
   ]
  },
  {
   "cell_type": "markdown",
   "metadata": {},
   "source": [
    "### There were no properties that renovated then resold in the timeframe :(\n",
    "\n",
    "Only 14 renovated then sold within the timeframe."
   ]
  },
  {
   "cell_type": "code",
   "execution_count": null,
   "metadata": {},
   "outputs": [],
   "source": [
    "# Get \"duplicates\" - i.e. sold at least twice\n",
    "# find relisted (i.e. duplicate) properties\n",
    "relisted_mask = df.index.duplicated(keep=False)\n",
    "\n",
    "# Get those that were renovated in dataset timeframe\n",
    "renovated_in_timeframe_mask = df[\"yr_renovated\"] >= df[\"date\"].min()\n",
    "\n",
    "# Get those that weren't renovated in timeframe\n",
    "not_renovated_in_timeframe_mask = ~renovated_in_timeframe_mask\n",
    "\n",
    "# Only 14 renovated and sold within the timeframe\n",
    "df[renovated_in_timeframe_mask]\n",
    "\n",
    "# Exclude those that were renovated twice - only include those with an ID in both\n",
    "#ids = pd.merge(left=df[renovated_in_timeframe_mask][\"id\"], right=df[not_renovated_in_timeframe_mask][\"id\"], how=\"inner\", on=\"id\")\n",
    "\n",
    "# Groupby renovation status and average price\n",
    "# Calculate difference\n",
    "# Can do this in various segments"
   ]
  },
  {
   "cell_type": "code",
   "execution_count": null,
   "metadata": {},
   "outputs": [],
   "source": [
    "# They went for $0.7m on average - relatively low\n",
    "np.around(df[renovated_in_timeframe_mask][\"price\"].mean(), -3) / 1e6"
   ]
  },
  {
   "cell_type": "markdown",
   "metadata": {},
   "source": [
    "### Whether to renovate: Conclusion\n",
    "We can conclude that:\n",
    "* condition appears to have an impact on price, when you exclude the bands with very little data\n",
    "* however, the information on condition is relatively limited - it all falls within quite a small range\n",
    "* the data is thin above band 5, roughly the $2.5 million price tag\n",
    "* the data is very thin for historical properties. HOWEVER -> a small increase in condition seems to correlate with a large increase in price.\n",
    "\n",
    "* Now seems to be a good time to sell, and given the uncertainty in the data, and the risk that is associated with renovating (which could take longer than expected and cost more), it makes sense to pick properties for sale that are in a reasonably good condition already (as far above 3 as possible) but not to renovate them."
   ]
  },
  {
   "cell_type": "markdown",
   "metadata": {},
   "source": [
    "## Overall conclusion"
   ]
  },
  {
   "cell_type": "markdown",
   "metadata": {},
   "source": [
    "* The best districts to sell for historical buildings are:\n",
    " * "
   ]
  }
 ],
 "metadata": {
  "kernelspec": {
   "display_name": "Python 3.9.8 ('.venv': venv)",
   "language": "python",
   "name": "python3"
  },
  "language_info": {
   "codemirror_mode": {
    "name": "ipython",
    "version": 3
   },
   "file_extension": ".py",
   "mimetype": "text/x-python",
   "name": "python",
   "nbconvert_exporter": "python",
   "pygments_lexer": "ipython3",
   "version": "3.9.8"
  },
  "orig_nbformat": 4,
  "vscode": {
   "interpreter": {
    "hash": "d477e5a671b71a9b12e742e7f90d68f109efc1c243efc41d0f86d69e3ad0185e"
   }
  }
 },
 "nbformat": 4,
 "nbformat_minor": 2
}
