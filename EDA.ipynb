{
 "cells": [
  {
   "cell_type": "markdown",
   "metadata": {},
   "source": [
    "# Selling historic houses for maximum revenue with help from the King County housing data"
   ]
  },
  {
   "attachments": {},
   "cell_type": "markdown",
   "metadata": {},
   "source": [
    "This notebook is where I cleaned the data, searched for correlations and visualised insights for use in the presentation. For more details about the project, see the [README file](./README.md).\n",
    "\n"
   ]
  },
  {
   "cell_type": "markdown",
   "metadata": {},
   "source": [
    "## Scenario: advising Zachary Brooks, owner of a portfolio of historic houses\n",
    "\n",
    "* It’s February 2016\n",
    "\n",
    "* Zachary Brooks has a large portfolio of historical houses across King County\n",
    "\n",
    "* He wants to sell maximum 5 properties in the next year\n",
    "\n",
    "## Questions\n",
    "\n",
    "* How should he sell the ones that will generate most revenue?\n",
    " \n",
    "  * When is the best time to sell?\n",
    " \n",
    "  * Is it worth renovating before selling?\n",
    " \n",
    "  * What are the best locations to sell in?"
   ]
  },
  {
   "cell_type": "markdown",
   "metadata": {},
   "source": [
    "## Approach: draw insights from past data and apply to future\n",
    "\n",
    "The task isn't to find appropriate properties in the dataset because they have already been sold and Zachary Brooks doesn't own them.\n",
    "\n",
    "All we can do is make generalisations about the data, and hope they apply to the next year. \"Hope\" being the operative word."
   ]
  },
  {
   "attachments": {},
   "cell_type": "markdown",
   "metadata": {},
   "source": [
    "Start by importing all the stuff we need and changing a few settings for later on.\n",
    "\n",
    "This includes a couple of functions defined in [my_functions.py](./my_functions/my_functions.py)."
   ]
  },
  {
   "cell_type": "code",
   "execution_count": 1,
   "metadata": {},
   "outputs": [],
   "source": [
    "import pandas as pd\n",
    "import numpy as np\n",
    "import matplotlib\n",
    "import matplotlib.pyplot as plt\n",
    "import seaborn as sns\n",
    "\n",
    "from pathlib import Path\n",
    "import os\n",
    "import urllib.request, zipfile\n",
    "\n",
    "# import all the functions defined in my_functions.py\n",
    "from my_functions.my_functions import *\n",
    "\n",
    "from matplotlib.ticker import PercentFormatter\n",
    "plt.rcParams.update({ \"figure.figsize\" : (8, 5),\"axes.facecolor\" : \"white\", \"axes.edgecolor\":  \"black\"})\n",
    "plt.rcParams[\"figure.facecolor\"]= \"w\"\n",
    "pd.plotting.register_matplotlib_converters()\n",
    "pd.set_option('display.float_format', lambda x: '%.3f' % x)\n",
    "\n",
    "# make Seaborn a little prettier\n",
    "sns.set_theme()\n",
    "sns.set_color_codes()"
   ]
  },
  {
   "cell_type": "markdown",
   "metadata": {},
   "source": [
    "Import the data. Note that `parse_dates` tries to parse as many date columns as it can, but it later turns out that `yr_renovated` needs some special attention."
   ]
  },
  {
   "cell_type": "code",
   "execution_count": 11,
   "metadata": {},
   "outputs": [
    {
     "data": {
      "text/html": [
       "<div>\n",
       "<style scoped>\n",
       "    .dataframe tbody tr th:only-of-type {\n",
       "        vertical-align: middle;\n",
       "    }\n",
       "\n",
       "    .dataframe tbody tr th {\n",
       "        vertical-align: top;\n",
       "    }\n",
       "\n",
       "    .dataframe thead th {\n",
       "        text-align: right;\n",
       "    }\n",
       "</style>\n",
       "<table border=\"1\" class=\"dataframe\">\n",
       "  <thead>\n",
       "    <tr style=\"text-align: right;\">\n",
       "      <th></th>\n",
       "      <th>id</th>\n",
       "      <th>date</th>\n",
       "      <th>price</th>\n",
       "      <th>bedrooms</th>\n",
       "      <th>bathrooms</th>\n",
       "      <th>sqft_living</th>\n",
       "      <th>sqft_lot</th>\n",
       "      <th>floors</th>\n",
       "      <th>waterfront</th>\n",
       "      <th>view</th>\n",
       "      <th>...</th>\n",
       "      <th>grade</th>\n",
       "      <th>sqft_above</th>\n",
       "      <th>sqft_basement</th>\n",
       "      <th>yr_built</th>\n",
       "      <th>yr_renovated</th>\n",
       "      <th>zipcode</th>\n",
       "      <th>lat</th>\n",
       "      <th>long</th>\n",
       "      <th>sqft_living15</th>\n",
       "      <th>sqft_lot15</th>\n",
       "    </tr>\n",
       "  </thead>\n",
       "  <tbody>\n",
       "    <tr>\n",
       "      <th>0</th>\n",
       "      <td>7129300520</td>\n",
       "      <td>2014-10-13</td>\n",
       "      <td>221900.000</td>\n",
       "      <td>3</td>\n",
       "      <td>1.000</td>\n",
       "      <td>1180</td>\n",
       "      <td>5650</td>\n",
       "      <td>1.000</td>\n",
       "      <td>0</td>\n",
       "      <td>0</td>\n",
       "      <td>...</td>\n",
       "      <td>7</td>\n",
       "      <td>1180</td>\n",
       "      <td>0</td>\n",
       "      <td>1955-01-01</td>\n",
       "      <td>0</td>\n",
       "      <td>98178</td>\n",
       "      <td>47.511</td>\n",
       "      <td>-122.257</td>\n",
       "      <td>1340</td>\n",
       "      <td>5650</td>\n",
       "    </tr>\n",
       "    <tr>\n",
       "      <th>1</th>\n",
       "      <td>6414100192</td>\n",
       "      <td>2014-12-09</td>\n",
       "      <td>538000.000</td>\n",
       "      <td>3</td>\n",
       "      <td>2.250</td>\n",
       "      <td>2570</td>\n",
       "      <td>7242</td>\n",
       "      <td>2.000</td>\n",
       "      <td>0</td>\n",
       "      <td>0</td>\n",
       "      <td>...</td>\n",
       "      <td>7</td>\n",
       "      <td>2170</td>\n",
       "      <td>400</td>\n",
       "      <td>1951-01-01</td>\n",
       "      <td>1991</td>\n",
       "      <td>98125</td>\n",
       "      <td>47.721</td>\n",
       "      <td>-122.319</td>\n",
       "      <td>1690</td>\n",
       "      <td>7639</td>\n",
       "    </tr>\n",
       "    <tr>\n",
       "      <th>2</th>\n",
       "      <td>5631500400</td>\n",
       "      <td>2015-02-25</td>\n",
       "      <td>180000.000</td>\n",
       "      <td>2</td>\n",
       "      <td>1.000</td>\n",
       "      <td>770</td>\n",
       "      <td>10000</td>\n",
       "      <td>1.000</td>\n",
       "      <td>0</td>\n",
       "      <td>0</td>\n",
       "      <td>...</td>\n",
       "      <td>6</td>\n",
       "      <td>770</td>\n",
       "      <td>0</td>\n",
       "      <td>1933-01-01</td>\n",
       "      <td>0</td>\n",
       "      <td>98028</td>\n",
       "      <td>47.738</td>\n",
       "      <td>-122.233</td>\n",
       "      <td>2720</td>\n",
       "      <td>8062</td>\n",
       "    </tr>\n",
       "    <tr>\n",
       "      <th>3</th>\n",
       "      <td>2487200875</td>\n",
       "      <td>2014-12-09</td>\n",
       "      <td>604000.000</td>\n",
       "      <td>4</td>\n",
       "      <td>3.000</td>\n",
       "      <td>1960</td>\n",
       "      <td>5000</td>\n",
       "      <td>1.000</td>\n",
       "      <td>0</td>\n",
       "      <td>0</td>\n",
       "      <td>...</td>\n",
       "      <td>7</td>\n",
       "      <td>1050</td>\n",
       "      <td>910</td>\n",
       "      <td>1965-01-01</td>\n",
       "      <td>0</td>\n",
       "      <td>98136</td>\n",
       "      <td>47.521</td>\n",
       "      <td>-122.393</td>\n",
       "      <td>1360</td>\n",
       "      <td>5000</td>\n",
       "    </tr>\n",
       "    <tr>\n",
       "      <th>4</th>\n",
       "      <td>1954400510</td>\n",
       "      <td>2015-02-18</td>\n",
       "      <td>510000.000</td>\n",
       "      <td>3</td>\n",
       "      <td>2.000</td>\n",
       "      <td>1680</td>\n",
       "      <td>8080</td>\n",
       "      <td>1.000</td>\n",
       "      <td>0</td>\n",
       "      <td>0</td>\n",
       "      <td>...</td>\n",
       "      <td>8</td>\n",
       "      <td>1680</td>\n",
       "      <td>0</td>\n",
       "      <td>1987-01-01</td>\n",
       "      <td>0</td>\n",
       "      <td>98074</td>\n",
       "      <td>47.617</td>\n",
       "      <td>-122.045</td>\n",
       "      <td>1800</td>\n",
       "      <td>7503</td>\n",
       "    </tr>\n",
       "  </tbody>\n",
       "</table>\n",
       "<p>5 rows × 21 columns</p>\n",
       "</div>"
      ],
      "text/plain": [
       "           id       date      price  bedrooms  bathrooms  sqft_living  \\\n",
       "0  7129300520 2014-10-13 221900.000         3      1.000         1180   \n",
       "1  6414100192 2014-12-09 538000.000         3      2.250         2570   \n",
       "2  5631500400 2015-02-25 180000.000         2      1.000          770   \n",
       "3  2487200875 2014-12-09 604000.000         4      3.000         1960   \n",
       "4  1954400510 2015-02-18 510000.000         3      2.000         1680   \n",
       "\n",
       "   sqft_lot  floors  waterfront  view  ...  grade  sqft_above  sqft_basement  \\\n",
       "0      5650   1.000           0     0  ...      7        1180              0   \n",
       "1      7242   2.000           0     0  ...      7        2170            400   \n",
       "2     10000   1.000           0     0  ...      6         770              0   \n",
       "3      5000   1.000           0     0  ...      7        1050            910   \n",
       "4      8080   1.000           0     0  ...      8        1680              0   \n",
       "\n",
       "    yr_built yr_renovated zipcode    lat     long  sqft_living15  sqft_lot15  \n",
       "0 1955-01-01            0   98178 47.511 -122.257           1340        5650  \n",
       "1 1951-01-01         1991   98125 47.721 -122.319           1690        7639  \n",
       "2 1933-01-01            0   98028 47.738 -122.233           2720        8062  \n",
       "3 1965-01-01            0   98136 47.521 -122.393           1360        5000  \n",
       "4 1987-01-01            0   98074 47.617 -122.045           1800        7503  \n",
       "\n",
       "[5 rows x 21 columns]"
      ]
     },
     "execution_count": 11,
     "metadata": {},
     "output_type": "execute_result"
    }
   ],
   "source": [
    "# import data\n",
    "\n",
    "csv_path = Path(\"data/kingcounty/kc_house_data.csv\")\n",
    "zip_path = Path(\"data/data.zip\")\n",
    "if not (csv_path.is_file()):\n",
    "    Path(\"data\").mkdir(parents=True, exist_ok=True)\n",
    "    zip_url = \"https://geodacenter.github.io/data-and-lab/data/kingcounty.zip\"\n",
    "    urllib.request.urlretrieve(zip_url, zip_path)\n",
    "    with zipfile.ZipFile(zip_path) as housing_zip:\n",
    "        housing_zip.extractall(path=\"data\")\n",
    "    \n",
    "    os.remove(\"data/data.zip\")\n",
    "df = pd.read_csv(csv_path, parse_dates=[\"date\", \"yr_built\", \"yr_renovated\"])\n",
    "df.head(5)"
   ]
  },
  {
   "cell_type": "markdown",
   "metadata": {},
   "source": [
    "Look at all those lovely columns. It later turns out we don't need anywhere near all of them, so we can drop quite a lot.\n"
   ]
  },
  {
   "cell_type": "code",
   "execution_count": null,
   "metadata": {},
   "outputs": [],
   "source": [
    "df = df.iloc[:, [0, 1, 2, 10, 14, 15, 16, 17, 18]]\n",
    "df.info()"
   ]
  },
  {
   "cell_type": "code",
   "execution_count": null,
   "metadata": {},
   "outputs": [],
   "source": [
    "# Just do describe on price and condition as it doesn't make sense for the others.\n",
    "df.iloc[:, 2:4].describe()"
   ]
  },
  {
   "cell_type": "markdown",
   "metadata": {},
   "source": [
    "|    | Column name   | Description   |\n",
    "|---:|:--------------|:--------------|\n",
    "|  1 | date          | Date of the sale             |\n",
    "|  2 | price         | Price of sale |\n",
    "|  3 | condition     | Condition on a scale of 1 to 5 |\n",
    "| 4 | yr_built      | Year property was built |\n",
    "| 5 | yr_renovated  | Year property was last renovated |\n",
    "| 6 | zipcode       | Zip code |\n",
    "| 7 | lat           | Latitude |\n",
    "| 8 | long          | Longitude |"
   ]
  },
  {
   "cell_type": "markdown",
   "metadata": {},
   "source": [
    "## Clean `yr_renovated` column"
   ]
  },
  {
   "cell_type": "markdown",
   "metadata": {},
   "source": [
    "`yr_renovated` didn't get imported as a datetime object, so we need to clean it. The problem is that it contains lots of 0.0 values that can't be detected as NaN."
   ]
  },
  {
   "cell_type": "code",
   "execution_count": null,
   "metadata": {},
   "outputs": [],
   "source": [
    "df[\"yr_renovated\"] = pd.to_datetime(\n",
    "    df[\"yr_renovated\"].replace(\"0.0\", np.NaN), format=\"%Y.0\"\n",
    "    )\n",
    "\n",
    "df[\"yr_renovated\"].dtype"
   ]
  },
  {
   "cell_type": "markdown",
   "metadata": {},
   "source": [
    "### The `price` data is heavily right-skewed"
   ]
  },
  {
   "cell_type": "markdown",
   "metadata": {},
   "source": [
    "Okay, let's admit it: price is what we're interested in most. Let's see how the data is distributed with a nice box plot."
   ]
  },
  {
   "cell_type": "code",
   "execution_count": null,
   "metadata": {},
   "outputs": [],
   "source": [
    "fig, ax = plt.subplots(figsize=(2, 5))\n",
    "sns.boxplot(ax=ax, data=df[\"price\"])\n"
   ]
  },
  {
   "cell_type": "markdown",
   "metadata": {},
   "source": [
    "We can see there are many outliers, so the data is heavily right-skewed.\n",
    "\n",
    "The mean is $540k but the median is $450k."
   ]
  },
  {
   "cell_type": "markdown",
   "metadata": {},
   "source": [
    "## Where to sell?"
   ]
  },
  {
   "cell_type": "markdown",
   "metadata": {},
   "source": [
    "### Highest-value zip codes"
   ]
  },
  {
   "cell_type": "markdown",
   "metadata": {},
   "source": [
    "We start by finding the 5 zip codes with the highest mean price.\n",
    "\n",
    "`get_zip_averages` is defined in `my_functions.py`. It gets the mean price for every zipcode by default, but can also get median and mode."
   ]
  },
  {
   "cell_type": "code",
   "execution_count": null,
   "metadata": {},
   "outputs": [],
   "source": [
    "zips = get_zip_averages(df, mean_only=False)\n",
    "zips"
   ]
  },
  {
   "attachments": {},
   "cell_type": "markdown",
   "metadata": {},
   "source": [
    "Map the zipcodes using Plotly.\n",
    "\n",
    "The `map_zips` function is used throughout this part of the notebook to keep the plots consistent and make it easier to make small changes in one place. It optionally writes the plots to HTML and JPEG for use e.g. in presentations."
   ]
  },
  {
   "cell_type": "code",
   "execution_count": null,
   "metadata": {},
   "outputs": [],
   "source": [
    "def map_zips(zips, title=\"Zip Codes in King's County\", width=800, height=600, color=\"price_mean\", size=\"price_len\", save_html=False, save_jpg=False):\n",
    "    \"\"\" Maps zip codes with Seaborn, optionally saves output to HTML or JPEG files too\n",
    "\n",
    "    Args:\n",
    "        zips (_type_): _description_\n",
    "        title (str, optional): The title. Defaults to \"Zip Codes in King's County\".\n",
    "        sizecount (bool, optional): Whether size is the count (i.e. number of data). Defaults to False.\n",
    "        save_html (bool, optional): Whether to save to HTML. Defaults to True.\n",
    "        save_jpg (bool, optional):\n",
    "    \"\"\"\n",
    "    import plotly.express as px\n",
    "    zips = zips.copy()\n",
    "    zips[\"_prefix\"] = \" (\"\n",
    "    zips[\"_suffix\"] = \")\"\n",
    "    zips[\"hover\"] = zips.index.astype(str) + zips[\"_prefix\"] + zips[\"name\"] + zips[\"_suffix\"]\n",
    "    fig = px.scatter_mapbox(\n",
    "        zips,\n",
    "        mapbox_style=\"stamen-toner\",\n",
    "        lat=\"latitude\",\n",
    "        lon=\"longitude\",\n",
    "        color=color,\n",
    "        title=title,\n",
    "        hover_name=\"hover\",\n",
    "        width=width,\n",
    "        height=height,\n",
    "        size=size,\n",
    "        zoom=8.5,\n",
    "        )\n",
    "\n",
    "    fig.show()\n",
    "    if save_html or save_jpg:\n",
    "        file_name = title.replace(\" \", \"_\")\n",
    "        file_name = ''.join(e for e in file_name if (e.isalnum() or e == \"_\")).lower()\n",
    "    if save_html:\n",
    "        fig.write_html(f\"html/{file_name}.html\")\n",
    "    if save_jpg:\n",
    "        pass\n",
    "        fig.write_image(f\"images/{file_name}.jpg\", width=width, height=height)\n",
    "map_zips(zips, title=\"Zip Codes in King's Country: Average Price\", save_html=True)"
   ]
  },
  {
   "cell_type": "markdown",
   "metadata": {},
   "source": [
    "From the map, we can see the point at which things get expensive is around 850k. This is well above the 75th %ile for the mean price on zip codes."
   ]
  },
  {
   "cell_type": "code",
   "execution_count": null,
   "metadata": {},
   "outputs": [],
   "source": [
    "print(f\"The 75th percentile is: {int(round(zips['price_mean'].quantile(0.75), -3))}\")"
   ]
  },
  {
   "cell_type": "markdown",
   "metadata": {},
   "source": [
    "### Let's get the top 5 zipcodes\n"
   ]
  },
  {
   "cell_type": "markdown",
   "metadata": {},
   "source": [
    "By mean"
   ]
  },
  {
   "cell_type": "code",
   "execution_count": null,
   "metadata": {},
   "outputs": [],
   "source": [
    "top_5_zips = zips.sort_values(\"price_mean\", ascending=False).iloc[0:5]\n",
    "top_5_zips.drop(columns=[\"latitude\", \"longitude\", \"price_median\", \"price_mode\"])"
   ]
  },
  {
   "cell_type": "markdown",
   "metadata": {},
   "source": [
    "By median"
   ]
  },
  {
   "cell_type": "code",
   "execution_count": null,
   "metadata": {},
   "outputs": [],
   "source": [
    "top_5_zips_median = top_5_zips = zips.sort_values(\"price_median\", ascending=False).iloc[0:5]\n",
    "top_5_zips_median.drop(columns=[\"latitude\", \"longitude\", \"price_mean\", \"price_mode\"])\n"
   ]
  },
  {
   "cell_type": "markdown",
   "metadata": {},
   "source": [
    "They're the same..."
   ]
  },
  {
   "cell_type": "code",
   "execution_count": null,
   "metadata": {},
   "outputs": [],
   "source": [
    "# The zipcode is the index...\n",
    "top_5_zips.index.equals(top_5_zips_median.index)"
   ]
  },
  {
   "cell_type": "code",
   "execution_count": null,
   "metadata": {},
   "outputs": [],
   "source": [
    "map_zips(top_5_zips, title=\"Top 5 most expensive zip codes\")"
   ]
  },
  {
   "cell_type": "markdown",
   "metadata": {},
   "source": [
    "### Get figures (average prices) for historical buildings (built before 1945) in all zipcodes"
   ]
  },
  {
   "cell_type": "code",
   "execution_count": null,
   "metadata": {},
   "outputs": [],
   "source": [
    "# save this for later use\n",
    "historic_year = pd.to_datetime(\"1945-12-31\", yearfirst=True)\n",
    "\n",
    "# masks come in handy later - you can reuse them to filter, and even combine them with &, | etc.\n",
    "# so you don't have to write the same queries over and over again.\n",
    "# I think you'd have to be careful using them on filtered DataFrames though, because they afaik\n",
    "# filter purely by order (not by index/row number) - so if the number of rows change, it will be all off.\n",
    "# The index should be retained, though, so it might be possible to use that if necessary.\n",
    "\n",
    "mask_historic = df[\"yr_built\"] < historic_year\n",
    "\n",
    "# Get stats historic buildings in all zips in the dataset\n",
    "historical_zips = get_zip_averages(df[mask_historic], mean_only=False)\n",
    "map_zips(historical_zips, title=\"Zip Codes by Average Price, Historical Only\")"
   ]
  },
  {
   "cell_type": "markdown",
   "metadata": {},
   "source": [
    "Here we can clearly see the range of prices in various zip codes.\n",
    "* The cheapest neighbourhoods start at $0.2M\n",
    "* The priciest range up to almost $2M"
   ]
  },
  {
   "cell_type": "markdown",
   "metadata": {},
   "source": [
    "### Get top 5 zips for historical properties"
   ]
  },
  {
   "cell_type": "markdown",
   "metadata": {},
   "source": [
    "By mean..."
   ]
  },
  {
   "cell_type": "code",
   "execution_count": null,
   "metadata": {},
   "outputs": [],
   "source": [
    "top_historical_zips = historical_zips.drop(columns=[\"latitude\", \"longitude\", \"price_median\", \"price_mode\"]).sort_values(\"price_mean\", ascending=False).iloc[0:5]\n",
    "top_historical_zips"
   ]
  },
  {
   "cell_type": "markdown",
   "metadata": {},
   "source": [
    "And by median..."
   ]
  },
  {
   "cell_type": "code",
   "execution_count": null,
   "metadata": {},
   "outputs": [],
   "source": [
    "top_historical_zips_median = historical_zips.sort_values(\"price_median\", ascending=False).iloc[0:5]\n",
    "top_historical_zips_median.drop(columns=[\"latitude\", \"longitude\", \"price_mean\", \"price_mode\"])"
   ]
  },
  {
   "cell_type": "code",
   "execution_count": null,
   "metadata": {},
   "outputs": [],
   "source": [
    "top_historical_zips.index.equals(top_historical_zips_median.index)"
   ]
  },
  {
   "cell_type": "code",
   "execution_count": null,
   "metadata": {},
   "outputs": [],
   "source": [
    "len(set(top_historical_zips.index).symmetric_difference(set(top_historical_zips_median.index)))"
   ]
  },
  {
   "cell_type": "markdown",
   "metadata": {},
   "source": [
    "**The zipcodes are the same, but in a different order**. So let's choose the median when we plot them on the map."
   ]
  },
  {
   "cell_type": "code",
   "execution_count": null,
   "metadata": {},
   "outputs": [],
   "source": [
    "map_zips(top_historical_zips_median, title=\"Top 5 historical zip codes by median price\", color=\"price_median\")"
   ]
  },
  {
   "cell_type": "markdown",
   "metadata": {},
   "source": [
    "Are these different from the overall most expensive zip codes? They have four in common - only two are in one but not the other."
   ]
  },
  {
   "cell_type": "code",
   "execution_count": null,
   "metadata": {},
   "outputs": [],
   "source": [
    "set(top_historical_zips.index).symmetric_difference(top_5_zips.index)"
   ]
  },
  {
   "cell_type": "markdown",
   "metadata": {},
   "source": [
    "### Only those zip codes with a minimum number of properties"
   ]
  },
  {
   "cell_type": "markdown",
   "metadata": {},
   "source": [
    "You might worry that some zipcodes have very thin data. So we want to show only zip codes with a minimum number of properties. We can't be too choosy as many zipcodes have a low number of historic properties. **Let's set the threshold at 10**."
   ]
  },
  {
   "cell_type": "code",
   "execution_count": null,
   "metadata": {},
   "outputs": [],
   "source": [
    "top_historical_zips_min_count = historical_zips[historical_zips[\"price_len\"] >= 10].sort_values(\"price_median\", ascending=False).iloc[0:5]\n",
    "map_zips(top_historical_zips_min_count, \"Top 5 historical zip codes, n > 10\", size=\"price_len\", color=\"price_median\")"
   ]
  },
  {
   "cell_type": "markdown",
   "metadata": {},
   "source": [
    "Does this give us different results than without the n > 10 criterion?"
   ]
  },
  {
   "cell_type": "code",
   "execution_count": null,
   "metadata": {},
   "outputs": [],
   "source": [
    "set(top_historical_zips_min_count.index).intersection(set(top_historical_zips.index))"
   ]
  },
  {
   "cell_type": "markdown",
   "metadata": {},
   "source": [
    "Again, there are two that are in one but not the other."
   ]
  },
  {
   "cell_type": "markdown",
   "metadata": {},
   "source": [
    "## Conclusion: Where to sell\n",
    "\n",
    "It's clear from the data that there are 5 zipcodes with a minimum number of sales to assess whether the data is accurate. Depending on the properties Mr Brooks possesses, the following zip codes would be advantageous:"
   ]
  },
  {
   "cell_type": "code",
   "execution_count": null,
   "metadata": {},
   "outputs": [],
   "source": [
    "top_historical_zips_median[\"name\"].to_frame()"
   ]
  },
  {
   "cell_type": "markdown",
   "metadata": {},
   "source": [
    "## Should I sell now, or wait until autumn?"
   ]
  },
  {
   "cell_type": "code",
   "execution_count": null,
   "metadata": {},
   "outputs": [],
   "source": [
    "def plot_monthly_prices(df, title=None, ytick_lim=1.4e6, cut_y=4e5):\n",
    "    fig, ax = plt.subplots()\n",
    "    df = df.copy()\n",
    "    df[\"month\"] = df[\"date\"].dt.month\n",
    "    df_month_prices = df[[\"month\", \"price\"]].groupby(\"month\").median()\n",
    "    p = sns.lineplot(axes=ax, data=df_month_prices, x=\"month\", y=\"price\")\n",
    "    plt.xticks(rotation=45)\n",
    "\n",
    "    # calculate upper limit for y axis (ytick_lim) with padding to next 100,000 unless one is passed as argument\n",
    "    if ytick_lim is None:\n",
    "        pricemax = df_month_prices[\"price\"].max()\n",
    "        ytick_lim = pricemax - (pricemax // 1e5)\n",
    "\n",
    "    ax.set_yticks(ticks=np.arange(cut_y, ytick_lim + 1e5, 1e5))\n",
    "    ax.set_xticks(ticks=df_month_prices.index, labels=[\"Jan\", \"Feb\", \"Mar\", \"Apr\", \"May\", \"Jun\", \"Jul\", \"Aug\", \"Sep\", \"Oct\", \"Nov\", \"Dec\"])\n",
    "    ax.set_title(title, fontsize=16)\n",
    "    ax.set_xlabel(\"Month\")\n",
    "    ax.set_ylabel(\"Price\")\n",
    "\n",
    "plot_monthly_prices(df, title=\"Average price by month for all properties\")"
   ]
  },
  {
   "cell_type": "markdown",
   "metadata": {},
   "source": [
    "The above chart **with y-axis cut at 400,000** shows that there are fluctuations in the market. While the overall percentage is relatively small if plot with a full y-axis, there is nevertheless quite a lot of money at stake if the trend holds in coming years. We've set the upper limit to 1.2m for comparability with the following chart.\n",
    "\n",
    "Also note that the months January to May are from 2015, while May to December are from 2014 (and May overlaps for a few days)."
   ]
  },
  {
   "cell_type": "code",
   "execution_count": null,
   "metadata": {},
   "outputs": [],
   "source": [
    "# For top-five zip codes\n",
    "mask_top_5_zips = df[\"zipcode\"].isin(top_5_zips.index.to_list())\n",
    "plot_monthly_prices(df[mask_top_5_zips], \"Average price by month for top 5 zipcodes\", ytick_lim=1.4e6, cut_y=5e5)"
   ]
  },
  {
   "cell_type": "markdown",
   "metadata": {},
   "source": [
    "For the top zip-codes, price-wise it makes little difference whether we sell now or in autumn. There's a larger window of opportunity now though.\n",
    "\n",
    "If we do renovate, there's a chance to sell in autumn, but if things take longer, the spring window is waiting just after New Year."
   ]
  },
  {
   "cell_type": "code",
   "execution_count": null,
   "metadata": {},
   "outputs": [],
   "source": [
    "# For top five historic zip codes\n",
    "mask_top_historical_zips = df[\"zipcode\"].isin(top_historical_zips.index.to_list())\n",
    "plot_monthly_prices(df[mask_top_historical_zips], title=\"Average price by month for top historic zipcodes\")"
   ]
  },
  {
   "cell_type": "markdown",
   "metadata": {},
   "source": [
    "For the top historic zipcodes, the picture is slightly different. Autumn is about the worst time to sell!"
   ]
  },
  {
   "cell_type": "markdown",
   "metadata": {},
   "source": [
    "Is this because of low number of properties in the data?"
   ]
  },
  {
   "cell_type": "code",
   "execution_count": null,
   "metadata": {},
   "outputs": [],
   "source": [
    "mask_top_historical_zips_min_count = df[\"zipcode\"].isin(top_historical_zips_min_count.index.to_list())\n",
    "plot_monthly_prices(df[mask_top_historical_zips_min_count], \"Top historic zip codes with min 10 properties\")"
   ]
  },
  {
   "cell_type": "markdown",
   "metadata": {},
   "source": [
    "Conclusion: historic properties sold for lowest prices in autumn, with about $200k difference between the lowest and highest points. This means it would be wise to put the properties on the market now, in order to have best chances of maximising revenue.\n",
    "\n",
    "This assumes that putting five properties on the market won't cannibalise one another by self-competing."
   ]
  },
  {
   "cell_type": "markdown",
   "metadata": {},
   "source": [
    "## Should I renovate?"
   ]
  },
  {
   "cell_type": "markdown",
   "metadata": {},
   "source": [
    "Only a small percentage of the dataset has information on renovation date. So we should be suspicious."
   ]
  },
  {
   "cell_type": "code",
   "execution_count": null,
   "metadata": {},
   "outputs": [],
   "source": [
    "def pc_ren(df, return_value=False):\n",
    "    if not return_value:\n",
    "        percent_renovated = df[\"yr_renovated\"].count() / df.index.size * 100\n",
    "        print(f\"{round(percent_renovated, 2)}% of buildings have been renovated.\")\n",
    "    else:\n",
    "        return percent_renovated\n",
    "\n",
    "pc_ren(df)"
   ]
  },
  {
   "cell_type": "markdown",
   "metadata": {},
   "source": [
    "What about historic buildings?"
   ]
  },
  {
   "cell_type": "code",
   "execution_count": null,
   "metadata": {},
   "outputs": [],
   "source": [
    "pc_ren(df[mask_historic])"
   ]
  },
  {
   "cell_type": "markdown",
   "metadata": {},
   "source": [
    "This is surprising... so we should take it with a pinch of salt."
   ]
  },
  {
   "cell_type": "code",
   "execution_count": null,
   "metadata": {},
   "outputs": [],
   "source": [
    "# add a column \"really_renovated\" – this is either the year renovated, or the year of build if NaN\n",
    "\n",
    "not_renovated_mask = df[\"yr_renovated\"].notna()\n",
    "bad_condition_mask = df[\"condition\"] <= 3\n",
    "\n",
    "df[\"really_renovated\"] = df[\"yr_renovated\"].fillna(df[\"yr_built\"])\n",
    "df"
   ]
  },
  {
   "cell_type": "code",
   "execution_count": null,
   "metadata": {},
   "outputs": [],
   "source": [
    "condition_renovation = df[[\"condition\", \"yr_renovated\"]].groupby(\"yr_renovated\").mean()\n",
    "condition_renovation"
   ]
  },
  {
   "cell_type": "code",
   "execution_count": null,
   "metadata": {},
   "outputs": [],
   "source": [
    "p = sns.scatterplot(condition_renovation, x=\"yr_renovated\", y=\"condition\")\n",
    "p.set_title(\"Year renovated against condition\")"
   ]
  },
  {
   "cell_type": "code",
   "execution_count": null,
   "metadata": {},
   "outputs": [],
   "source": [
    "# find average condition by really_renovated year\n",
    "condition_x_ren_year = df[[\"really_renovated\", \"condition\"]].groupby(\"really_renovated\").mean()\n",
    "sns.scatterplot(data=condition_x_ren_year)"
   ]
  },
  {
   "cell_type": "markdown",
   "metadata": {},
   "source": [
    "Does yr_renovated really add anything? Let's do the same, but for just the build year."
   ]
  },
  {
   "cell_type": "code",
   "execution_count": null,
   "metadata": {},
   "outputs": [],
   "source": [
    "condition_x_build_year = df[[\"yr_built\", \"condition\"]].groupby(\"yr_built\").mean()\n",
    "p = sns.scatterplot(data=condition_x_build_year, x=\"yr_built\", y=\"condition\")\n",
    "p.set_title(\"Year built against condition\")"
   ]
  },
  {
   "cell_type": "markdown",
   "metadata": {},
   "source": [
    "All the scattergraphs seem to show that the year or renovation/build is actually negatively correlated to condition. We can see that older objects generally are in better condition."
   ]
  },
  {
   "cell_type": "markdown",
   "metadata": {},
   "source": [
    "**We can't conclude very much from the data because we would expect condition to correlate with renovation... but the opposite is the case. We can assume that condition is valid, and yr_renovated is not.**"
   ]
  },
  {
   "cell_type": "markdown",
   "metadata": {},
   "source": [
    "### Is there any correlation between condition and price?"
   ]
  },
  {
   "cell_type": "code",
   "execution_count": null,
   "metadata": {},
   "outputs": [],
   "source": [
    "# Separate into price bands, group by average condition, and plot a scatter graph\n",
    "def average_condition_x_price_band(df, bins=10, return_pb=False):\n",
    "    df = df[[\"price\", \"condition\"]].copy()\n",
    "    df[\"price_bands\"] = pd.cut(df[\"price\"], bins=bins, labels=range(1, bins+1))\n",
    "    df_pb_x_c = groupby_avg_and_len(df, use_cols=[\"price_bands\", \"condition\"], groupby_col=\"price_bands\")\n",
    "    if return_pb:\n",
    "        price_bands = groupby_avg_and_len(df, use_cols=[\"price_bands\", \"price\"], groupby_col=\"price_bands\")\n",
    "        return (df_pb_x_c, price_bands)\n",
    "    else:\n",
    "        return df\n",
    "condition_x_priceband, price_bands = average_condition_x_price_band(df, return_pb=True)\n",
    "condition_x_priceband"
   ]
  },
  {
   "cell_type": "code",
   "execution_count": null,
   "metadata": {},
   "outputs": [],
   "source": [
    "sns.scatterplot(data=condition_x_priceband, x=condition_x_priceband.index, y=\"condition_mean\", size=\"condition_len\")"
   ]
  },
  {
   "cell_type": "markdown",
   "metadata": {},
   "source": [
    "It looks like there is a correlation between price and condition. Many of the price bands don't have much data. Let's make a cut-off of at least 50 properties."
   ]
  },
  {
   "cell_type": "code",
   "execution_count": null,
   "metadata": {},
   "outputs": [],
   "source": [
    "data = condition_x_priceband[condition_x_priceband[\"condition_len\"]>=50].join(price_bands, how=\"left\", rsuffix=\"_r\")\n",
    "p = sns.scatterplot(data=data, x=\"price_mean\", y=\"condition_mean\", size=\"condition_len\")\n",
    "p.set_title(\"Price bands and their average condition rating, n >= 50\")"
   ]
  },
  {
   "cell_type": "markdown",
   "metadata": {},
   "source": [
    "### Correlation between condition and price for historic properties?"
   ]
  },
  {
   "cell_type": "code",
   "execution_count": null,
   "metadata": {},
   "outputs": [],
   "source": [
    "condition_x_priceband_hist, price_bands_hist = condition_x_price_band(df[mask_historic], return_pb=True)\n",
    "data = condition_x_priceband_hist.join(other=price_bands, how=\"left\", rsuffix=\"_r\")\n",
    "sns.scatterplot(data=data, x=\"price_mean\", y=\"condition_mean\", size=\"condition_len\")"
   ]
  },
  {
   "cell_type": "markdown",
   "metadata": {},
   "source": [
    "It seems to be the same story - let's see how much data we have for each price band"
   ]
  },
  {
   "cell_type": "code",
   "execution_count": null,
   "metadata": {},
   "outputs": [],
   "source": [
    "price_bands_hist"
   ]
  },
  {
   "cell_type": "markdown",
   "metadata": {},
   "source": [
    "We're going to have to be less choosy if we want to see data for the highest price bands and go right down to 5!"
   ]
  },
  {
   "cell_type": "code",
   "execution_count": null,
   "metadata": {},
   "outputs": [],
   "source": [
    "data = condition_x_priceband_hist[condition_x_priceband_hist[\"condition_len\"] >=5].join(other=price_bands, how=\"left\", rsuffix=\"_r\")\n",
    "p = sns.scatterplot(data=data, x=\"price_mean\", y=\"condition_mean\", size=\"price_len\")\n",
    "p.set_title(\"Price band against mean condition, historic buildings, n >= 5\")"
   ]
  },
  {
   "cell_type": "markdown",
   "metadata": {},
   "source": [
    "### There were no properties that renovated then resold in the timeframe :(\n",
    "\n",
    "Only 14 renovated then sold within the timeframe."
   ]
  },
  {
   "cell_type": "code",
   "execution_count": null,
   "metadata": {},
   "outputs": [],
   "source": [
    "# Get \"duplicates\" - i.e. sold at least twice\n",
    "# find relisted (i.e. duplicate) properties\n",
    "relisted_mask = df.index.duplicated(keep=False)\n",
    "\n",
    "# Get those that were renovated in dataset timeframe\n",
    "renovated_in_timeframe_mask = df[\"yr_renovated\"] >= df[\"date\"].min()\n",
    "\n",
    "# Get those that weren't renovated in timeframe\n",
    "not_renovated_in_timeframe_mask = ~renovated_in_timeframe_mask\n",
    "\n",
    "# Only 14 renovated and sold within the timeframe\n",
    "df[renovated_in_timeframe_mask]\n",
    "\n",
    "# Exclude those that were renovated twice - only include those with an ID in both\n",
    "#ids = pd.merge(left=df[renovated_in_timeframe_mask][\"id\"], right=df[not_renovated_in_timeframe_mask][\"id\"], how=\"inner\", on=\"id\")\n",
    "\n",
    "# Groupby renovation status and average price\n",
    "# Calculate difference\n",
    "# Can do this in various segments"
   ]
  },
  {
   "cell_type": "code",
   "execution_count": null,
   "metadata": {},
   "outputs": [],
   "source": [
    "# They went for $0.7m on average - relatively low\n",
    "np.around(df[renovated_in_timeframe_mask][\"price\"].mean(), -3) / 1e6"
   ]
  },
  {
   "cell_type": "markdown",
   "metadata": {},
   "source": [
    "### Whether to renovate: Conclusion\n",
    "We can conclude that:\n",
    "* condition appears to have an impact on price, when you exclude the bands with very little data\n",
    "* however, the information on condition is relatively limited - it all falls within quite a small range\n",
    "* the data is thin above band 5, roughly the $2.5 million price tag\n",
    "* the data is very thin for historical properties. HOWEVER -> a small increase in condition seems to correlate with a large increase in price.\n",
    "\n",
    "* Now seems to be a good time to sell, and given the uncertainty in the data, and the risk that is associated with renovating (which could take longer than expected and cost more), it makes sense to pick properties for sale that are in a reasonably good condition already (as far above 3 as possible) but not to renovate them."
   ]
  },
  {
   "cell_type": "markdown",
   "metadata": {},
   "source": [
    "## Overall conclusion"
   ]
  },
  {
   "cell_type": "markdown",
   "metadata": {},
   "source": [
    "* The best districts to sell for historical buildings are: ...\n",
    "* Sell now!\n",
    "* Don't renovate!"
   ]
  }
 ],
 "metadata": {
  "kernelspec": {
   "display_name": ".venv",
   "language": "python",
   "name": "python3"
  },
  "language_info": {
   "codemirror_mode": {
    "name": "ipython",
    "version": 3
   },
   "file_extension": ".py",
   "mimetype": "text/x-python",
   "name": "python",
   "nbconvert_exporter": "python",
   "pygments_lexer": "ipython3",
   "version": "3.11.1"
  },
  "orig_nbformat": 4,
  "vscode": {
   "interpreter": {
    "hash": "bdf8021036ae8a275b259a5ec8b5585fc7913f237eedc4276b9d86a5f0287014"
   }
  }
 },
 "nbformat": 4,
 "nbformat_minor": 2
}
